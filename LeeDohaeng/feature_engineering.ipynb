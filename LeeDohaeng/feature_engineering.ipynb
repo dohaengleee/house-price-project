{
 "cells": [
  {
   "cell_type": "code",
   "execution_count": 193,
   "metadata": {},
   "outputs": [],
   "source": [
    "%matplotlib inline\n",
    "import numpy as np\n",
    "import pandas as pd \n",
    "import matplotlib.pyplot as plt\n",
    "import scipy.stats as st\n",
    "import sklearn.linear_model as linear_model\n",
    "import seaborn as sns\n",
    "from sklearn.model_selection import KFold\n",
    "from IPython.display import HTML, display\n",
    "from sklearn.manifold import TSNE\n",
    "from sklearn.cluster import KMeans\n",
    "from sklearn.decomposition import PCA\n",
    "from sklearn.preprocessing import StandardScaler\n",
    "from sklearn.linear_model import LinearRegression\n",
    "import statsmodels.api as sm\n",
    "df_train = pd.read_csv('C:/Users/dohan/Desktop/house_prj/house-price-project/data/train.csv')\n",
    "df_test = pd.read_csv('C:/Users/dohan/Desktop/house_prj/house-price-project/data/test.csv')"
   ]
  },
  {
   "cell_type": "code",
   "execution_count": 194,
   "metadata": {
    "scrolled": true
   },
   "outputs": [],
   "source": [
    "# missing value 처리\n",
    "\n",
    "df_train.loc[1379, \"Electrical\"] = \"SBrkr\"\n",
    "\n",
    "df_train[\"MasVnrType\"].fillna(\"NA\", inplace = True)\n",
    "df_train[\"MasVnrArea\"].fillna(0, inplace = True)\n",
    "\n",
    "df_train[\"BsmtQual\"].fillna(\"NA\", inplace = True)\n",
    "df_train[\"BsmtCond\"].fillna(\"NA\", inplace = True)\n",
    "df_train[\"BsmtFinType1\"].fillna(\"NA\", inplace = True)\n",
    "df_train[\"BsmtFinType2\"].fillna(\"NA\", inplace = True)\n",
    "df_train[\"BsmtExposure\"].fillna(\"NA\", inplace = True)\n",
    "df_train.loc[332, \"BsmtFinType2\"] = \"Rec\"\n",
    "df_train.loc[948, \"BsmtExposure\"] = \"No\"\n",
    "\n",
    "df_train[\"PoolQC\"].fillna(\"NA\", inplace = True)\n",
    "\n",
    "df_train[\"MiscFeature\"].fillna(\"NA\", inplace = True)\n",
    "\n",
    "df_train[\"Alley\"].fillna(\"NA\", inplace = True)\n",
    "\n",
    "df_train[\"Fence\"].fillna(\"NA\", inplace = True)\n",
    "\n",
    "df_train[\"FireplaceQu\"].fillna(\"NA\", inplace = True)\n",
    "\n",
    "df_train['GarageYrBlt'].fillna(\"NA\", inplace = True)\n",
    "df_train[\"GarageType\"].fillna(\"NA\", inplace = True)\n",
    "df_train[\"GarageFinish\"].fillna(\"NA\", inplace = True)\n",
    "df_train[\"GarageQual\"].fillna(\"NA\", inplace = True)\n",
    "df_train[\"GarageCond\"].fillna(\"NA\", inplace = True)\n",
    "\n",
    "isnullLotFrontage = df_train[\"LotFrontage\"].isnull()\n",
    "sqrtLotArea = np.sqrt(df_train.loc[isnullLotFrontage].LotArea)\n",
    "df_train.loc[isnullLotFrontage, \"LotFrontage\"] = np.sqrt(df_train.loc[isnullLotFrontage, \"LotArea\"])"
   ]
  },
  {
   "cell_type": "code",
   "execution_count": 195,
   "metadata": {
    "collapsed": true
   },
   "outputs": [],
   "source": [
    "# Convering categorical data with numerical features into categories\n",
    "\n",
    "df_train['MSSubClass'] = df_train.MSSubClass.astype('category')\n",
    "df_train['MoSold'] = df_train.MSSubClass.astype('category')\n",
    "df_train['GarageYrBlt'] = df_train.MSSubClass.astype('category')\n",
    "df_train['YrSold'] = df_train.MSSubClass.astype('category')"
   ]
  },
  {
   "cell_type": "code",
   "execution_count": 196,
   "metadata": {
    "collapsed": true
   },
   "outputs": [],
   "source": [
    "# Converting categorical data with non-numerical features with rank inro orinal categories\n",
    "df_train['ExterQual'] = df_train.ExterQual.replace(dict(Ex=5, Gd=4, TA=3, Fa=2))\n",
    "df_train['ExterCond'] = df_train.ExterCond.replace(dict(Ex=5, Gd=4, TA=3, Fa=2, Po=1))\n",
    "df_train['BsmtQual'] = df_train.BsmtQual.replace(dict(Ex=5, Gd=4, TA=3, Fa=2, NA=0))\n",
    "df_train['BsmtCond'] = df_train.BsmtCond.replace(dict(Ex=5, Gd=4, TA=3, Fa=2, Po=1, NA=0))\n",
    "df_train['BsmtExposure'] = df_train.BsmtExposure.replace(dict(Gd=5, Av=4, Mn=3, No=2, NA=0))\n",
    "df_train['BsmtFinType1'] = df_train.BsmtFinType1.replace(dict(GLQ=6, ALQ=5, BLQ=4, Rec=3, LwQ=2, Unf=1, NA=0))\n",
    "df_train['BsmtFinType2'] = df_train.BsmtFinType2.replace(dict(GLQ=6, ALQ=5, BLQ=4, Rec=3, LwQ=2, Unf=1, NA=0))\n",
    "df_train['HeatingQC'] = df_train.HeatingQC.replace(dict(Ex=5, Gd=4, TA=3, Fa=2, Po=1))\n",
    "df_train['KitchenQual'] = df_train.KitchenQual.replace(dict(Ex=5, Gd=4, TA=3, Fa=2, Po=1))\n",
    "df_train['Functional'] = df_train.Functional.replace(dict(Typ=8, Min1=7, Min2=6, Mod=5, Maj1=4, Maj2=3, Sev=2, Sal=1))\n",
    "df_train['FireplaceQu'] = df_train.FireplaceQu.replace(dict(Ex=5, Gd=4, TA=3, Fa=2, Po=1, NA=0))\n",
    "df_train['GarageCond'] = df_train.GarageCond.replace(dict(Ex=5, Gd=4, TA=3, Fa=2, Po=1, NA=0))\n",
    "df_train['GarageQual'] = df_train.GarageQual.replace(dict(Ex=5, Gd=4, TA=3, Fa=2, Po=1, NA=0))\n",
    "df_train['PoolQC'] = df_train.PoolQC.replace(dict(Ex=5, Gd=4, TA=3, Fa=2, NA=0))\n",
    "df_train['Fence'] = df_train.Fence.replace(dict(GdPrv=5, MnPrv=4, GdWo=3, MnWw=2, NA=0))\n",
    "df_train['Alley'] = df_train.Alley.replace(dict(Grvl=2, Pave=1, NA=0))\n",
    "df_train['LotShape'] = df_train.LotShape.replace(dict(Reg=4, IR1=3, IR2=2, IR3=1))\n",
    "df_train['LotConfig'] = df_train.LotConfig.replace(dict(Inside=5, Corner=4, CulDSac=3, FR2=2, FR3=1))\n",
    "df_train['LandContour'] = df_train.LandContour.replace(dict(Lvl=4, Bnk=3, HLS=2, Low=1))\n",
    "df_train['LandSlope'] = df_train.LandSlope.replace(dict(Gtl=3, Mod=2, Sev=1))"
   ]
  },
  {
   "cell_type": "code",
   "execution_count": 197,
   "metadata": {
    "scrolled": true
   },
   "outputs": [],
   "source": [
    "df_train['TotalBath'] = df_train[['BsmtFullBath', 'BsmtHalfBath', 'FullBath', 'HalfBath']].sum(axis=1)\n",
    "df_train['PorchArea'] = df_train[[\"OpenPorchSF\", \"EnclosedPorch\", \"3SsnPorch\", \"ScreenPorch\"]].sum(axis = 1)"
   ]
  },
  {
   "cell_type": "code",
   "execution_count": 198,
   "metadata": {
    "scrolled": true
   },
   "outputs": [],
   "source": [
    "df_train = pd.get_dummies(df_train)\n",
    "df_train.to_csv(\"DH_train.csv\", index=False)"
   ]
  }
 ],
 "metadata": {
  "kernelspec": {
   "display_name": "Python 3",
   "language": "python",
   "name": "python3"
  },
  "language_info": {
   "codemirror_mode": {
    "name": "ipython",
    "version": 3
   },
   "file_extension": ".py",
   "mimetype": "text/x-python",
   "name": "python",
   "nbconvert_exporter": "python",
   "pygments_lexer": "ipython3",
   "version": "3.6.1"
  }
 },
 "nbformat": 4,
 "nbformat_minor": 2
}
